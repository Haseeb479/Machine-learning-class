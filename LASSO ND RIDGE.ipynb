{
  "nbformat": 4,
  "nbformat_minor": 0,
  "metadata": {
    "colab": {
      "provenance": [],
      "authorship_tag": "ABX9TyPN/FTWm5KjNeDaXFkVF0LI",
      "include_colab_link": true
    },
    "kernelspec": {
      "name": "python3",
      "display_name": "Python 3"
    },
    "language_info": {
      "name": "python"
    }
  },
  "cells": [
    {
      "cell_type": "markdown",
      "metadata": {
        "id": "view-in-github",
        "colab_type": "text"
      },
      "source": [
        "<a href=\"https://colab.research.google.com/github/Haseeb479/Machine-learning-class/blob/main/LASSO%20ND%20RIDGE.ipynb\" target=\"_parent\"><img src=\"https://colab.research.google.com/assets/colab-badge.svg\" alt=\"Open In Colab\"/></a>"
      ]
    },
    {
      "cell_type": "code",
      "execution_count": 4,
      "metadata": {
        "colab": {
          "base_uri": "https://localhost:8080/"
        },
        "id": "ePNhhxxYHogH",
        "outputId": "48155337-b4a7-46bd-f3ed-731757c0e582"
      },
      "outputs": [
        {
          "output_type": "stream",
          "name": "stdout",
          "text": [
            "Lasso Logistic Regression - Accuracy: 0.7886178861788617\n",
            "Ridge Logistic Regression - Accuracy: 0.7886178861788617\n"
          ]
        }
      ],
      "source": [
        "import pandas as pd\n",
        "from sklearn.model_selection import train_test_split\n",
        "from sklearn.preprocessing import StandardScaler\n",
        "from sklearn.linear_model import LogisticRegression\n",
        "from sklearn.metrics import accuracy_score\n",
        "from sklearn.impute import SimpleImputer\n",
        "\n",
        "train = pd.read_csv('/content/loan_sanction_train.csv')\n",
        "\n",
        "X = train[['Gender', 'Married', 'Education', 'Self_Employed', 'Dependents',\n",
        "           'ApplicantIncome', 'CoapplicantIncome', 'LoanAmount', 'Loan_Amount_Term',\n",
        "           'Property_Area', 'Credit_History']]\n",
        "\n",
        "\n",
        "X = pd.get_dummies(X, drop_first=True)\n",
        "\n",
        "imputer = SimpleImputer(strategy='mean')\n",
        "X_imputed = imputer.fit_transform(X)\n",
        "\n",
        "# Target variable\n",
        "y = train['Loan_Status'].map({'N': 0, 'Y': 1}).astype(int)\n",
        "\n",
        "# Train-test split\n",
        "X_train, X_test, y_train, y_test = train_test_split(X_imputed, y, test_size=0.2, random_state=42)\n",
        "\n",
        "# Standardize the features\n",
        "scaler = StandardScaler()\n",
        "X_train_scaled = scaler.fit_transform(X_train)\n",
        "X_test_scaled = scaler.transform(X_test)\n",
        "\n",
        "# Apply Logistic Regression with L1 regularization (Lasso)\n",
        "lasso_log_reg = LogisticRegression(penalty='l1', solver='liblinear', C=1.0)\n",
        "lasso_log_reg.fit(X_train_scaled, y_train)\n",
        "y_pred_lasso = lasso_log_reg.predict(X_test_scaled)\n",
        "\n",
        "# Evaluate Lasso Logistic Regression\n",
        "accuracy_lasso = accuracy_score(y_test, y_pred_lasso)\n",
        "print(f\"Lasso Logistic Regression - Accuracy: {accuracy_lasso}\")\n",
        "\n",
        "# Apply Logistic Regression with L2 regularization (Ridge)\n",
        "ridge_log_reg = LogisticRegression(penalty='l2', solver='liblinear', C=1.0)\n",
        "ridge_log_reg.fit(X_train_scaled, y_train)\n",
        "y_pred_ridge = ridge_log_reg.predict(X_test_scaled)\n",
        "\n",
        "# Evaluate Ridge Logistic Regression\n",
        "accuracy_ridge = accuracy_score(y_test, y_pred_ridge)\n",
        "print(f\"Ridge Logistic Regression - Accuracy: {accuracy_ridge}\")"
      ]
    }
  ]
}