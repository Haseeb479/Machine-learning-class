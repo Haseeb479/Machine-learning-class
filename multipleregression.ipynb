{
  "nbformat": 4,
  "nbformat_minor": 0,
  "metadata": {
    "colab": {
      "provenance": [],
      "authorship_tag": "ABX9TyMpUC4i6ns4B1ITQZnDdrD9",
      "include_colab_link": true
    },
    "kernelspec": {
      "name": "python3",
      "display_name": "Python 3"
    },
    "language_info": {
      "name": "python"
    }
  },
  "cells": [
    {
      "cell_type": "markdown",
      "metadata": {
        "id": "view-in-github",
        "colab_type": "text"
      },
      "source": [
        "<a href=\"https://colab.research.google.com/github/Haseeb479/Multiplerregression/blob/main/multipleregression.ipynb\" target=\"_parent\"><img src=\"https://colab.research.google.com/assets/colab-badge.svg\" alt=\"Open In Colab\"/></a>"
      ]
    },
    {
      "cell_type": "code",
      "execution_count": 13,
      "metadata": {
        "id": "zAe-u5-s_chX"
      },
      "outputs": [],
      "source": [
        "import pandas as pd\n",
        "from sklearn.linear_model import LinearRegression"
      ]
    },
    {
      "cell_type": "code",
      "source": [
        "data = pd.read_csv('StudentsPerformance[1].csv')\n",
        "\n",
        "data = pd.get_dummies(data, drop_first=True)\n",
        "\n",
        "X = data.drop(['math score', 'reading score', 'writing score'], axis=1)\n",
        "y = data[['math score', 'reading score', 'writing score']]\n",
        "\n",
        "regr = linear_model.LinearRegression()\n",
        "model = LinearRegression()\n",
        "model.fit(X, y)\n",
        "\n",
        "y_pred = model.predict(X_test)\n"
      ],
      "metadata": {
        "id": "ckOgiqefAGoP"
      },
      "execution_count": 17,
      "outputs": []
    },
    {
      "cell_type": "code",
      "source": [
        "print(\"Coefficients:\", model.coef_)\n",
        "print(\"Intercept:\", model.intercept_)"
      ],
      "metadata": {
        "colab": {
          "base_uri": "https://localhost:8080/"
        },
        "id": "hZh0dHsADVvO",
        "outputId": "1da42e61-0b1c-4dc3-82b2-c6a7617e49aa"
      },
      "execution_count": 15,
      "outputs": [
        {
          "output_type": "stream",
          "name": "stdout",
          "text": [
            "Coefficients: [[  4.99529812   2.04078114   2.47001708   5.3410354   10.13473459\n",
            "    1.96609609  -4.80272667   2.8883855   -0.58265321  -4.24868\n",
            "   10.87683206  -5.49467057]\n",
            " [ -7.07139241   1.32603217   2.2738943    4.1056004    5.51351287\n",
            "    2.15591725  -4.90041618   4.20505004  -1.27950969  -4.0490457\n",
            "    7.24580234  -7.36245449]\n",
            " [ -9.09646089   1.22011403   2.41259557   5.93069093   5.13731438\n",
            "    3.48490077  -5.81434012   5.18323531  -0.92044041  -5.3222014\n",
            "    8.20275435 -10.05871853]]\n",
            "Intercept: [57.63050384 71.27762067 71.91418527]\n"
          ]
        }
      ]
    }
  ]
}